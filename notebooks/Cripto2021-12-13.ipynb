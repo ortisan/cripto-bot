{
 "cells": [
  {
   "cell_type": "markdown",
   "id": "88eac624",
   "metadata": {},
   "source": [
    "# Análise Cripto Moedas"
   ]
  },
  {
   "cell_type": "markdown",
   "id": "07bf83ec",
   "metadata": {},
   "source": [
    "### Imports"
   ]
  },
  {
   "cell_type": "code",
   "execution_count": 1,
   "id": "aa0fbb82",
   "metadata": {},
   "outputs": [],
   "source": [
    "import requests\n",
    "from binance.spot import Spot "
   ]
  },
  {
   "cell_type": "code",
   "execution_count": 2,
   "id": "3a3a6416",
   "metadata": {},
   "outputs": [
    {
     "data": {
      "text/plain": [
       "<binance.spot.Spot at 0x7fc72c2b2c10>"
      ]
     },
     "execution_count": 2,
     "metadata": {},
     "output_type": "execute_result"
    }
   ],
   "source": [
    "client = Spot()\n",
    "spot_client = Spot(key='<your api key>', base_url=\"https://testnet.binance.vision\")\n",
    "spot_client"
   ]
  },
  {
   "cell_type": "code",
   "execution_count": 3,
   "id": "418c0557",
   "metadata": {},
   "outputs": [
    {
     "data": {
      "text/plain": [
       "{'symbol': 'BTCUSDT', 'price': '46464.98000000'}"
      ]
     },
     "execution_count": 3,
     "metadata": {},
     "output_type": "execute_result"
    }
   ],
   "source": [
    "spot_client.ticker_price(symbol='BTCUSDT')"
   ]
  },
  {
   "cell_type": "code",
   "execution_count": 9,
   "id": "759f50eb",
   "metadata": {},
   "outputs": [
    {
     "data": {
      "text/plain": [
       "200"
      ]
     },
     "execution_count": 9,
     "metadata": {},
     "output_type": "execute_result"
    }
   ],
   "source": [
    "from pandas_datareader import data\n",
    "\n",
    "# Only get the adjusted close.\n",
    "aapl = data.DataReader(\"AAPL\", \n",
    "                       start='2015-1-1', \n",
    "                       end='2015-12-31', \n",
    "                       data_source='yahoo')['Adj Close']\n",
    "\n",
    ">>> aapl.plot(title='AAPL Adj. Closing Price')"
   ]
  },
  {
   "cell_type": "code",
   "execution_count": 10,
   "id": "32b3eeef",
   "metadata": {},
   "outputs": [
    {
     "data": {
      "text/plain": [
       "{'Response': 'Success',\n",
       " 'Message': '',\n",
       " 'HasWarning': False,\n",
       " 'Type': 100,\n",
       " 'RateLimit': {},\n",
       " 'Data': {'Aggregated': False,\n",
       "  'TimeFrom': 1638576000,\n",
       "  'TimeTo': 1639440000,\n",
       "  'Data': [{'id': 321992,\n",
       "    'symbol': 'ADA',\n",
       "    'time': 1638576000,\n",
       "    'zero_balance_addresses_all_time': 20185053,\n",
       "    'unique_addresses_all_time': 23437680,\n",
       "    'new_addresses': 81906,\n",
       "    'active_addresses': 165105,\n",
       "    'transaction_count': 115429,\n",
       "    'transaction_count_all_time': 26165321,\n",
       "    'large_transaction_count': 7518,\n",
       "    'average_transaction_value': 69133.9272618505,\n",
       "    'current_supply': 33313246914.729},\n",
       "   {'id': 321992,\n",
       "    'symbol': 'ADA',\n",
       "    'time': 1638662400,\n",
       "    'zero_balance_addresses_all_time': 20247998,\n",
       "    'unique_addresses_all_time': 23510994,\n",
       "    'new_addresses': 73314,\n",
       "    'active_addresses': 150394,\n",
       "    'transaction_count': 101619,\n",
       "    'transaction_count_all_time': 26266940,\n",
       "    'large_transaction_count': 7517,\n",
       "    'average_transaction_value': 75417.903509466,\n",
       "    'current_supply': 33313246914.729},\n",
       "   {'id': 321992,\n",
       "    'symbol': 'ADA',\n",
       "    'time': 1638748800,\n",
       "    'zero_balance_addresses_all_time': 20319273,\n",
       "    'unique_addresses_all_time': 23590728,\n",
       "    'new_addresses': 79734,\n",
       "    'active_addresses': 156944,\n",
       "    'transaction_count': 109495,\n",
       "    'transaction_count_all_time': 26376435,\n",
       "    'large_transaction_count': 6096,\n",
       "    'average_transaction_value': 75600.2791945535,\n",
       "    'current_supply': 33313246914.729},\n",
       "   {'id': 321992,\n",
       "    'symbol': 'ADA',\n",
       "    'time': 1638835200,\n",
       "    'zero_balance_addresses_all_time': 20340660,\n",
       "    'unique_addresses_all_time': 23607169,\n",
       "    'new_addresses': 16441,\n",
       "    'active_addresses': 40713,\n",
       "    'transaction_count': 21970,\n",
       "    'transaction_count_all_time': 26398405,\n",
       "    'large_transaction_count': 1826,\n",
       "    'average_transaction_value': 71362.2613603941,\n",
       "    'current_supply': 33367261943.503},\n",
       "   {'id': 321992,\n",
       "    'symbol': 'ADA',\n",
       "    'time': 1638921600,\n",
       "    'zero_balance_addresses_all_time': 20484349,\n",
       "    'unique_addresses_all_time': 23772700,\n",
       "    'new_addresses': 87685,\n",
       "    'active_addresses': 158007,\n",
       "    'transaction_count': 131277,\n",
       "    'transaction_count_all_time': 26638820,\n",
       "    'large_transaction_count': 4679,\n",
       "    'average_transaction_value': 40581.746296692,\n",
       "    'current_supply': 33367225931.597},\n",
       "   {'id': 321992,\n",
       "    'symbol': 'ADA',\n",
       "    'time': 1639008000,\n",
       "    'zero_balance_addresses_all_time': 20562955,\n",
       "    'unique_addresses_all_time': 23851459,\n",
       "    'new_addresses': 78759,\n",
       "    'active_addresses': 154095,\n",
       "    'transaction_count': 104785,\n",
       "    'transaction_count_all_time': 26743605,\n",
       "    'large_transaction_count': 4395,\n",
       "    'average_transaction_value': 42605.1010627005,\n",
       "    'current_supply': 33429075309.826},\n",
       "   {'id': 321992,\n",
       "    'symbol': 'ADA',\n",
       "    'time': 1639094400,\n",
       "    'zero_balance_addresses_all_time': 20642458,\n",
       "    'unique_addresses_all_time': 23935927,\n",
       "    'new_addresses': 84468,\n",
       "    'active_addresses': 164721,\n",
       "    'transaction_count': 137706,\n",
       "    'transaction_count_all_time': 26881311,\n",
       "    'large_transaction_count': 4227,\n",
       "    'average_transaction_value': 39773.6883831373,\n",
       "    'current_supply': 33429039528.592},\n",
       "   {'id': 321992,\n",
       "    'symbol': 'ADA',\n",
       "    'time': 1639180800,\n",
       "    'zero_balance_addresses_all_time': 20700756,\n",
       "    'unique_addresses_all_time': 23998472,\n",
       "    'new_addresses': 62545,\n",
       "    'active_addresses': 127325,\n",
       "    'transaction_count': 93072,\n",
       "    'transaction_count_all_time': 26974383,\n",
       "    'large_transaction_count': 4069,\n",
       "    'average_transaction_value': 65573.7132912514,\n",
       "    'current_supply': 33429008519.167},\n",
       "   {'id': 321992,\n",
       "    'symbol': 'ADA',\n",
       "    'time': 1639267200,\n",
       "    'zero_balance_addresses_all_time': 20753710,\n",
       "    'unique_addresses_all_time': 24056952,\n",
       "    'new_addresses': 58480,\n",
       "    'active_addresses': 118419,\n",
       "    'transaction_count': 87774,\n",
       "    'transaction_count_all_time': 27062157,\n",
       "    'large_transaction_count': 3867,\n",
       "    'average_transaction_value': 40060.5437625214,\n",
       "    'current_supply': 33428977555.205}]}}"
      ]
     },
     "execution_count": 10,
     "metadata": {},
     "output_type": "execute_result"
    }
   ],
   "source": []
  },
  {
   "cell_type": "code",
   "execution_count": null,
   "id": "5626792d",
   "metadata": {},
   "outputs": [],
   "source": []
  }
 ],
 "metadata": {
  "kernelspec": {
   "display_name": "Python 3",
   "language": "python",
   "name": "python3"
  },
  "language_info": {
   "codemirror_mode": {
    "name": "ipython",
    "version": 3
   },
   "file_extension": ".py",
   "mimetype": "text/x-python",
   "name": "python",
   "nbconvert_exporter": "python",
   "pygments_lexer": "ipython3",
   "version": "3.8.8"
  }
 },
 "nbformat": 4,
 "nbformat_minor": 5
}
