{
 "cells": [
  {
   "cell_type": "markdown",
   "id": "197e420b",
   "metadata": {},
   "source": [
    "# Análise Cripto Moedas"
   ]
  },
  {
   "cell_type": "markdown",
   "id": "32327522",
   "metadata": {},
   "source": [
    "### Imports"
   ]
  },
  {
   "cell_type": "code",
   "execution_count": 1,
   "id": "0787849b",
   "metadata": {},
   "outputs": [],
   "source": [
    "import requests\n",
    "from binance.spot import Spot "
   ]
  },
  {
   "cell_type": "code",
   "execution_count": 2,
   "id": "21ef37fc",
   "metadata": {},
   "outputs": [
    {
     "data": {
      "text/plain": [
       "<binance.spot.Spot at 0x7fc72c2b2c10>"
      ]
     },
     "execution_count": 2,
     "metadata": {},
     "output_type": "execute_result"
    }
   ],
   "source": [
    "client = Spot()\n",
    "spot_client = Spot(key='<your api key>', base_url=\"https://testnet.binance.vision\")\n",
    "spot_client"
   ]
  },
  {
   "cell_type": "code",
   "execution_count": 3,
   "id": "e59cfa1f",
   "metadata": {},
   "outputs": [
    {
     "data": {
      "text/plain": [
       "{'symbol': 'BTCUSDT', 'price': '46464.98000000'}"
      ]
     },
     "execution_count": 3,
     "metadata": {},
     "output_type": "execute_result"
    }
   ],
   "source": [
    "spot_client.ticker_price(symbol='BTCUSDT')"
   ]
  },
  {
   "cell_type": "code",
   "execution_count": null,
   "id": "7cb227be",
   "metadata": {},
   "outputs": [],
   "source": []
  }
 ],
 "metadata": {
  "kernelspec": {
   "display_name": "Python 3",
   "language": "python",
   "name": "python3"
  },
  "language_info": {
   "codemirror_mode": {
    "name": "ipython",
    "version": 3
   },
   "file_extension": ".py",
   "mimetype": "text/x-python",
   "name": "python",
   "nbconvert_exporter": "python",
   "pygments_lexer": "ipython3",
   "version": "3.8.8"
  }
 },
 "nbformat": 4,
 "nbformat_minor": 5
}
