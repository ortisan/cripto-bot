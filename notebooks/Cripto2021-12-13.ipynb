{
 "cells": [
  {
   "cell_type": "markdown",
   "id": "3085d02e",
   "metadata": {},
   "source": [
    "# Análise Cripto Moedas"
   ]
  },
  {
   "cell_type": "markdown",
   "id": "5de18580",
   "metadata": {},
   "source": [
    "### Imports"
   ]
  },
  {
   "cell_type": "code",
   "execution_count": 1,
   "id": "305baaef",
   "metadata": {},
   "outputs": [],
   "source": [
    "import requests\n",
    "from binance.spot import Spot "
   ]
  },
  {
   "cell_type": "code",
   "execution_count": 2,
   "id": "65f03854",
   "metadata": {},
   "outputs": [
    {
     "data": {
      "text/plain": [
       "<binance.spot.Spot at 0x7fc72c2b2c10>"
      ]
     },
     "execution_count": 2,
     "metadata": {},
     "output_type": "execute_result"
    }
   ],
   "source": [
    "client = Spot()\n",
    "spot_client = Spot(key='<your api key>', base_url=\"https://testnet.binance.vision\")\n",
    "spot_client"
   ]
  },
  {
   "cell_type": "code",
   "execution_count": 3,
   "id": "7ba7b153",
   "metadata": {},
   "outputs": [
    {
     "data": {
      "text/plain": [
       "{'symbol': 'BTCUSDT', 'price': '46464.98000000'}"
      ]
     },
     "execution_count": 3,
     "metadata": {},
     "output_type": "execute_result"
    }
   ],
   "source": [
    "spot_client.ticker_price(symbol='BTCUSDT')"
   ]
  },
  {
   "cell_type": "code",
   "execution_count": 4,
   "id": "6b57f28c",
   "metadata": {},
   "outputs": [
    {
     "data": {
      "text/plain": [
       "200"
      ]
     },
     "execution_count": 4,
     "metadata": {},
     "output_type": "execute_result"
    }
   ],
   "source": [
    "payload = {\n",
    "    'api_key': '<your api key>',\n",
    "    'fsym': 'ETH',\n",
    "    'limit': 10    \n",
    "          }\n",
    "\n",
    "r = requests.get('https://min-api.cryptocompare.com/data/blockchain/histo/day', params=payload)\n",
    "r.status_code"
   ]
  },
  {
   "cell_type": "code",
   "execution_count": null,
   "id": "d1a827d5",
   "metadata": {},
   "outputs": [],
   "source": [
    "r.json()"
   ]
  }
 ],
 "metadata": {
  "kernelspec": {
   "display_name": "Python 3",
   "language": "python",
   "name": "python3"
  },
  "language_info": {
   "codemirror_mode": {
    "name": "ipython",
    "version": 3
   },
   "file_extension": ".py",
   "mimetype": "text/x-python",
   "name": "python",
   "nbconvert_exporter": "python",
   "pygments_lexer": "ipython3",
   "version": "3.8.8"
  }
 },
 "nbformat": 4,
 "nbformat_minor": 5
}
